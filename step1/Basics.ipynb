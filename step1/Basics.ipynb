{
 "cells": [
  {
   "cell_type": "code",
   "execution_count": 24,
   "metadata": {
    "collapsed": true
   },
   "outputs": [],
   "source": [
    "import csv\n",
    "import datetime\n",
    "import operator, itertools, functools"
   ]
  },
  {
   "cell_type": "code",
   "execution_count": 3,
   "metadata": {
    "collapsed": true
   },
   "outputs": [],
   "source": [
    "guns = list(csv.reader(open('guns.csv', 'r')))\n",
    "data = guns[1:]\n",
    "headers = guns[0]\n",
    "\n",
    "for row in data:\n",
    "    row[1] = int(row[1])\n",
    "    row[2] = int(row[2])"
   ]
  },
  {
   "cell_type": "code",
   "execution_count": 15,
   "metadata": {
    "collapsed": false
   },
   "outputs": [
    {
     "name": "stdout",
     "output_type": "stream",
     "text": [
      "['', 'year', 'month', 'intent', 'police', 'sex', 'age', 'race', 'hispanic', 'place', 'education']\n",
      "[['1', 2012, 1, 'Suicide', '0', 'M', '34', 'Asian/Pacific Islander', '100', 'Home', '4'], ['2', 2012, 1, 'Suicide', '0', 'F', '21', 'White', '100', 'Street', '3'], ['3', 2012, 1, 'Suicide', '0', 'M', '60', 'White', '100', 'Other specified', '4'], ['4', 2012, 2, 'Suicide', '0', 'M', '64', 'White', '100', 'Home', '4'], ['5', 2012, 2, 'Suicide', '0', 'M', '31', 'White', '100', 'Other specified', '2']]\n"
     ]
    }
   ],
   "source": [
    "print(headers)\n",
    "print(data[:5])"
   ]
  },
  {
   "cell_type": "code",
   "execution_count": 21,
   "metadata": {
    "collapsed": true
   },
   "outputs": [],
   "source": [
    "def count_dict(func, iterable):\n",
    "    counts = {}\n",
    "    for item in iterable:\n",
    "        key = func(item)\n",
    "        counts[key] = counts[key]+1 if key in counts else 1\n",
    "    return counts"
   ]
  },
  {
   "cell_type": "code",
   "execution_count": 22,
   "metadata": {
    "collapsed": false
   },
   "outputs": [
    {
     "name": "stdout",
     "output_type": "stream",
     "text": [
      "{2012: 33563, 2013: 33636, 2014: 33599}\n"
     ]
    }
   ],
   "source": [
    "year_counts = count_dict(lambda x: x[1], data)\n",
    "print(year_counts)"
   ]
  },
  {
   "cell_type": "code",
   "execution_count": 26,
   "metadata": {
    "collapsed": false
   },
   "outputs": [],
   "source": [
    "def date_key_func(row):\n",
    "    dt = datetime.datetime(year=row[1], month=row[2], day=1)\n",
    "    return dt.strftime('%Y-%m-%d')\n",
    "date_counts = count_dict(date_key_func, data)\n",
    "# print(date_counts)"
   ]
  },
  {
   "cell_type": "code",
   "execution_count": 30,
   "metadata": {
    "collapsed": false
   },
   "outputs": [
    {
     "name": "stdout",
     "output_type": "stream",
     "text": [
      "{'F': 14449, 'M': 86349}\n",
      "{'Black': 23296, 'White': 66237, 'Hispanic': 9022, 'Native American/Native Alaskan': 917, 'Asian/Pacific Islander': 1326}\n",
      "5.976122915080628\n"
     ]
    }
   ],
   "source": [
    "sex_counts = count_dict(lambda x: x[5], data)\n",
    "race_counts = count_dict(lambda x: x[7], data)\n",
    "print(sex_counts)\n",
    "print(race_counts)\n",
    "print(sex_counts['M'] / sex_counts['F'])"
   ]
  },
  {
   "cell_type": "markdown",
   "metadata": {},
   "source": [
    "# 分かったこと\n",
    "* 銃で死亡する男性の数は女性の6倍\n",
    "* 銃による死亡は白人が最も多く、ついで黒人\n",
    "\n",
    "アメリカの人種の分布と比べて見たい"
   ]
  },
  {
   "cell_type": "code",
   "execution_count": 38,
   "metadata": {
    "collapsed": false,
    "scrolled": true
   },
   "outputs": [
    {
     "name": "stdout",
     "output_type": "stream",
     "text": [
      "[['Id', 'Year', 'Id', 'Sex', 'Id', 'Hispanic Origin', 'Id', 'Id2', 'Geography', 'Total', 'Race Alone - White', 'Race Alone - Hispanic', 'Race Alone - Black or African American', 'Race Alone - American Indian and Alaska Native', 'Race Alone - Asian', 'Race Alone - Native Hawaiian and Other Pacific Islander', 'Two or More Races'], ['cen42010', 'April 1, 2010 Census', 'totsex', 'Both Sexes', 'tothisp', 'Total', '0100000US', '', 'United States', '308745538', '197318956', '44618105', '40250635', '3739506', '15159516', '674625', '6984195']]\n"
     ]
    }
   ],
   "source": [
    "race_census = list(csv.reader(open('census.csv', 'r')))\n",
    "print(race_census)"
   ]
  },
  {
   "cell_type": "code",
   "execution_count": 43,
   "metadata": {
    "collapsed": false
   },
   "outputs": [
    {
     "name": "stdout",
     "output_type": "stream",
     "text": [
      "{'Black': 40250635, 'Hispanic': 44618105, 'White': 197318956, 'Asian/Pacific Islander': 15834141, 'Native American/Native Alaskan': 3739506}\n"
     ]
    }
   ],
   "source": [
    "race_census = list(csv.reader(open('census.csv', 'r')))[1][10:]\n",
    "race_census = list(map(int, race_census))\n",
    "mapping = {\n",
    "    'Black': race_census[2], 'White': race_census[0],\n",
    "    'Hispanic': race_census[1],\n",
    "    'Native American/Native Alaskan': race_census[3],\n",
    "    'Asian/Pacific Islander': race_census[4] + race_census[5]\n",
    "}\n",
    "print(mapping)"
   ]
  },
  {
   "cell_type": "code",
   "execution_count": 46,
   "metadata": {
    "collapsed": false
   },
   "outputs": [
    {
     "name": "stdout",
     "output_type": "stream",
     "text": [
      "{'Black': 57.8773477735196, 'Hispanic': 20.220491210910907, 'White': 33.56849303419181, 'Asian/Pacific Islander': 8.374309664161762, 'Native American/Native Alaskan': 24.521955573811088}\n"
     ]
    }
   ],
   "source": [
    "def calc_rate_per_hundredk(item):\n",
    "    race, killed = item\n",
    "    return (race, killed / mapping[race] * 100000)\n",
    "race_per_hundredk = dict(\n",
    "    map(calc_rate_per_hundredk, race_counts.items()))\n",
    "print(race_per_hundredk)"
   ]
  },
  {
   "cell_type": "code",
   "execution_count": 49,
   "metadata": {
    "collapsed": false
   },
   "outputs": [
    {
     "name": "stdout",
     "output_type": "stream",
     "text": [
      "{'White': 4.6356417981453335, 'Hispanic': 12.627161104219914, 'Black': 48.471284987180944, 'Asian/Pacific Islander': 3.530346230970155, 'Native American/Native Alaskan': 8.717729026240365}\n"
     ]
    }
   ],
   "source": [
    "data_only_homicide = filter(lambda x: x[3] == 'Homicide', data)\n",
    "homicide_race_counts = count_dict(lambda x: x[7], data_only_homicide)\n",
    "homicide_race_per_hundredk = dict(\n",
    "    map(calc_rate_per_hundredk, homicide_race_counts.items()))\n",
    "print(homicide_race_per_hundredk)"
   ]
  },
  {
   "cell_type": "markdown",
   "metadata": {},
   "source": [
    "# 分かったこと\n",
    "* 最も銃で殺されることが多い人種は黒人で、少ない人種はアジア・太平洋系\n",
    "* 白人は二番目に銃で殺されにくい人種"
   ]
  }
 ],
 "metadata": {
  "kernelspec": {
   "display_name": "Python 3",
   "language": "python",
   "name": "python3"
  },
  "language_info": {
   "codemirror_mode": {
    "name": "ipython",
    "version": 3
   },
   "file_extension": ".py",
   "mimetype": "text/x-python",
   "name": "python",
   "nbconvert_exporter": "python",
   "pygments_lexer": "ipython3",
   "version": "3.4.3"
  }
 },
 "nbformat": 4,
 "nbformat_minor": 0
}
